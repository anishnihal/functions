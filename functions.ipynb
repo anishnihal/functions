{
  "nbformat": 4,
  "nbformat_minor": 0,
  "metadata": {
    "colab": {
      "provenance": []
    },
    "kernelspec": {
      "name": "python3",
      "display_name": "Python 3"
    },
    "language_info": {
      "name": "python"
    }
  },
  "cells": [
    {
      "cell_type": "markdown",
      "source": [
        "#functions\n"
      ],
      "metadata": {
        "id": "zna839Ekb6kt"
      }
    },
    {
      "cell_type": "markdown",
      "source": [
        "1. what is function?\n",
        "   - functions is anything\n",
        "\n",
        "2."
      ],
      "metadata": {
        "id": "r2p3Jdj0cJ4j"
      }
    },
    {
      "cell_type": "code",
      "source": [],
      "metadata": {
        "id": "1UlpIh0Gb5jy"
      },
      "execution_count": null,
      "outputs": []
    },
    {
      "cell_type": "markdown",
      "source": [],
      "metadata": {
        "id": "OSAdLBpUb56I"
      }
    }
  ]
}